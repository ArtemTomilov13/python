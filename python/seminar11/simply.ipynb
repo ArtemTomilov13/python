{
 "cells": [
  {
   "cell_type": "markdown",
   "id": "7f06df1d",
   "metadata": {},
   "source": [
    "*Урок 11. Jupyter Notebook и несколько слов об аналитике*\n",
    "\n",
    "f(x) =0.6x^3+5.5x^2+10x -5\n",
    "\n",
    "1. Определить корни\n",
    "2. Найти интервалы, на которых функция возрастает\n",
    "3. Найти интервалы, на которых функция убывает\n",
    "4. Построить график\n",
    "5. Вычислить вершину\n",
    "6. Определить промежутки, на котором f > 0\n",
    "7. Определить промежутки, на котором f < 0"
   ]
  },
  {
   "cell_type": "code",
   "execution_count": 2,
   "id": "d20cf84e",
   "metadata": {},
   "outputs": [],
   "source": [
    "from sympy import *\n",
    "a = 0.6\n",
    "b = 5.5\n",
    "c = 10\n",
    "d = -5\n",
    "\n",
    "x = Symbol('x')\n",
    "f_x = a * (x ** 3) + b * (x ** 2) + c * x + d"
   ]
  },
  {
   "cell_type": "code",
   "execution_count": 3,
   "id": "2c390ded",
   "metadata": {
    "scrolled": true
   },
   "outputs": [
    {
     "data": {
      "text/latex": [
       "$\\displaystyle 0.6 x^{3} + 5.5 x^{2} + 10 x - 5$"
      ],
      "text/plain": [
       "0.6*x**3 + 5.5*x**2 + 10*x - 5"
      ]
     },
     "execution_count": 3,
     "metadata": {},
     "output_type": "execute_result"
    }
   ],
   "source": [
    "f_x"
   ]
  },
  {
   "cell_type": "markdown",
   "id": "02ce21d9",
   "metadata": {},
   "source": [
    "# 1. Определить корни"
   ]
  },
  {
   "cell_type": "code",
   "execution_count": 12,
   "id": "bf2fc9a5",
   "metadata": {
    "scrolled": false
   },
   "outputs": [
    {
     "data": {
      "text/plain": [
       "[-6.32174537314726 + 0.e-22*I,\n",
       " -3.25046383307744 - 0.e-22*I,\n",
       " 0.405542539558034 - 0.e-21*I]"
      ]
     },
     "execution_count": 12,
     "metadata": {},
     "output_type": "execute_result"
    }
   ],
   "source": [
    "solve(f_x,x)"
   ]
  },
  {
   "cell_type": "code",
   "execution_count": 25,
   "id": "a86d30e1",
   "metadata": {},
   "outputs": [
    {
     "data": {
      "text/latex": [
       "$\\displaystyle 1.8 x^{2} + 11.0 x + 10$"
      ],
      "text/plain": [
       "1.8*x**2 + 11.0*x + 10"
      ]
     },
     "execution_count": 25,
     "metadata": {},
     "output_type": "execute_result"
    }
   ],
   "source": [
    "derivative = diff(f_x)\n",
    "derivative"
   ]
  },
  {
   "cell_type": "markdown",
   "id": "947ea2b7",
   "metadata": {},
   "source": [
    "# 2. Найти интервалы, на которых функция возрастает"
   ]
  },
  {
   "cell_type": "code",
   "execution_count": 26,
   "id": "c36334a6",
   "metadata": {},
   "outputs": [
    {
     "data": {
      "text/latex": [
       "$\\displaystyle \\left(-1.11111111111111 < x \\wedge x < \\infty\\right) \\vee \\left(-\\infty < x \\wedge x < -5.0\\right)$"
      ],
      "text/plain": [
       "((-1.11111111111111 < x) & (x < oo)) | ((-oo < x) & (x < -5.0))"
      ]
     },
     "execution_count": 26,
     "metadata": {},
     "output_type": "execute_result"
    }
   ],
   "source": [
    "solve(derivative > 0, x)"
   ]
  },
  {
   "cell_type": "markdown",
   "id": "a9f0aeac",
   "metadata": {},
   "source": [
    "# 3. Найти интервалы, на которых функция убывает"
   ]
  },
  {
   "cell_type": "code",
   "execution_count": 27,
   "id": "7dc5555e",
   "metadata": {},
   "outputs": [
    {
     "data": {
      "text/latex": [
       "$\\displaystyle -5.0 < x \\wedge x < -1.11111111111111$"
      ],
      "text/plain": [
       "(-5.0 < x) & (x < -1.11111111111111)"
      ]
     },
     "execution_count": 27,
     "metadata": {},
     "output_type": "execute_result"
    }
   ],
   "source": [
    "solve(derivative < 0, x)"
   ]
  },
  {
   "cell_type": "markdown",
   "id": "91f4c44f",
   "metadata": {},
   "source": [
    "# 4. Построить график"
   ]
  },
  {
   "cell_type": "code",
   "execution_count": 33,
   "id": "73fe992b",
   "metadata": {
    "scrolled": false
   },
   "outputs": [
    {
     "data": {
      "image/png": "[encoded data removed]",
      "text/plain": [
       "<Figure size 640x480 with 1 Axes>"
      ]
     },
     "metadata": {},
     "output_type": "display_data"
    }
   ],
   "source": [
    "g1 = plot(f_x,(x, -20,20))"
   ]
  },
  {
   "cell_type": "markdown",
   "id": "5dd2c823",
   "metadata": {},
   "source": [
    "# 5. Вычислить вершину"
   ]
  },
  {
   "cell_type": "code",
   "execution_count": 35,
   "id": "1685eef8",
   "metadata": {
    "scrolled": true
   },
   "outputs": [
    {
     "data": {
      "text/plain": [
       "-4.583333333333334"
      ]
     },
     "execution_count": 35,
     "metadata": {},
     "output_type": "execute_result"
    }
   ],
   "source": [
    "-b/(2*a)"
   ]
  },
  {
   "cell_type": "code",
   "execution_count": 39,
   "id": "508c6c12",
   "metadata": {
    "scrolled": true
   },
   "outputs": [
    {
     "data": {
      "text/latex": [
       "$\\displaystyle 6.93576388888889$"
      ],
      "text/plain": [
       "6.93576388888889"
      ]
     },
     "execution_count": 39,
     "metadata": {},
     "output_type": "execute_result"
    }
   ],
   "source": [
    "f_x.subs(x, -b/(2*a))"
   ]
  },
  {
   "cell_type": "markdown",
   "id": "b969196b",
   "metadata": {},
   "source": [
    "# 6. Определить промежутки, на котором f > 0"
   ]
  },
  {
   "cell_type": "code",
   "execution_count": 40,
   "id": "b79f0b5c",
   "metadata": {},
   "outputs": [
    {
     "data": {
      "text/latex": [
       "$\\displaystyle \\left(-6.32174537314726 < x \\wedge x < -3.25046383307744\\right) \\vee \\left(0.405542539558034 < x \\wedge x < \\infty\\right)$"
      ],
      "text/plain": [
       "((-6.32174537314726 < x) & (x < -3.25046383307744)) | ((0.405542539558034 < x) & (x < oo))"
      ]
     },
     "execution_count": 40,
     "metadata": {},
     "output_type": "execute_result"
    }
   ],
   "source": [
    "solve(f_x > 0,x)"
   ]
  },
  {
   "cell_type": "markdown",
   "id": "afdba65f",
   "metadata": {},
   "source": [
    "# 7. Определить промежутки, на котором f < 0"
   ]
  },
  {
   "cell_type": "code",
   "execution_count": 41,
   "id": "5517297d",
   "metadata": {},
   "outputs": [
    {
     "data": {
      "text/latex": [
       "$\\displaystyle \\left(-3.25046383307744 < x \\wedge x < 0.405542539558034\\right) \\vee \\left(-\\infty < x \\wedge x < -6.32174537314726\\right)$"
      ],
      "text/plain": [
       "((-3.25046383307744 < x) & (x < 0.405542539558034)) | ((-oo < x) & (x < -6.32174537314726))"
      ]
     },
     "execution_count": 41,
     "metadata": {},
     "output_type": "execute_result"
    }
   ],
   "source": [
    "solve(f_x < 0,x)"
   ]
  }
 ],
 "metadata": {
  "kernelspec": {
   "display_name": "Python 3 (ipykernel)",
   "language": "python",
   "name": "python3"
  },
  "language_info": {
   "codemirror_mode": {
    "name": "ipython",
    "version": 3
   },
   "file_extension": ".py",
   "mimetype": "text/x-python",
   "name": "python",
   "nbconvert_exporter": "python",
   "pygments_lexer": "ipython3",
   "version": "3.9.13"
  }
 },
 "nbformat": 4,
 "nbformat_minor": 5
}
